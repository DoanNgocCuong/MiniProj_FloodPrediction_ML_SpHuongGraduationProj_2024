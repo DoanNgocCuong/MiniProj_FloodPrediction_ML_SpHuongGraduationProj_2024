{
 "cells": [
  {
   "cell_type": "markdown",
   "metadata": {},
   "source": [
    "Để chuẩn bị dataset cho bài \"Dự đoán bão lũ\" sử dụng Linear Regression và KNN, chúng ta cần tiến hành các bước tiền xử lý sau:"
   ]
  },
  {
   "cell_type": "code",
   "execution_count": null,
   "metadata": {},
   "outputs": [],
   "source": [
    "import pandas as pd\n",
    "import numpy as np\n",
    "from sklearn.preprocessing import StandardScaler\n",
    "\n",
    "# Đọc các file CSV\n",
    "historical_weather = pd.read_csv('historical_weather_data.csv')\n",
    "flood_events = pd.read_csv('flood_events.csv')\n",
    "geographical_data = pd.read_csv('geographical_data.csv')\n",
    "river_levels = pd.read_csv('river_levels.csv')\n",
    "precipitation_forecast = pd.read_csv('precipitation_forecast.csv')\n",
    "\n",
    "# Kết hợp dữ liệu dựa trên các cột chung (ví dụ: ngày tháng, vị trí)\n",
    "combined_data = pd.merge(historical_weather, flood_events, on=['date', 'location'])\n",
    "combined_data = pd.merge(combined_data, geographical_data, on='location')\n",
    "combined_data = pd.merge(combined_data, river_levels, on=['date', 'location'])\n",
    "combined_data = pd.merge(combined_data, precipitation_forecast, on=['date', 'location'])"
   ]
  }
 ],
 "metadata": {
  "language_info": {
   "name": "python"
  }
 },
 "nbformat": 4,
 "nbformat_minor": 2
}
